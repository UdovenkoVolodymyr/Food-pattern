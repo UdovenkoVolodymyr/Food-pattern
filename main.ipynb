{
 "cells": [
  {
   "cell_type": "markdown",
   "metadata": {},
   "source": [
    "# Search for food patterns\n",
    "\n",
    "In this case, we have identified several search objects <br>\n",
    "1: food entities such as \"yoghurt, sandwich etc.\" <br>\n",
    "2: volume values such as \"200gr\" <br>\n",
    "3: volume entities such as \"cup\", \"glass\", \"tablespoon\" <br>\n",
    "4: quantitative entities such as \"3x\" <br>\n",
    "\n",
    "## Features\n",
    "\n",
    "### Solved the problem of client's various writing: values of volume and quantitative variables\n",
    "Recognizes any recording version, such as '2x', '2 x', '2', '200ml', '350gr', '350 g' etc.\n",
    "\n",
    "### Setting Volume Values\n",
    "For all existing volume entities, we can specify the volumes that you consider correct. <br>\n",
    "For example: in this case the volume of a glass was set as 250 grams\n",
    "\n",
    "### Handling of mixed cases\n",
    "Quite often there are cases in which are present both quantitative and volume variables. <br>\n",
    "For example: 2 tablespoons of sugar <br>\n",
    "in this case, proper processing still happens. As a result, we derive a volume of two tablespoons. Because in this case the volume of a tablespoon was set as 18g, our result will be 36 grams of sugar"
   ]
  },
  {
   "cell_type": "code",
   "execution_count": null,
   "metadata": {},
   "outputs": [],
   "source": [
    "%run main_jupyter.py\n",
    "main()"
   ]
  }
 ],
 "metadata": {
  "kernelspec": {
   "display_name": "Python 3",
   "language": "python",
   "name": "python3"
  },
  "language_info": {
   "codemirror_mode": {
    "name": "ipython",
    "version": 3
   },
   "file_extension": ".py",
   "mimetype": "text/x-python",
   "name": "python",
   "nbconvert_exporter": "python",
   "pygments_lexer": "ipython3",
   "version": "3.6.7"
  }
 },
 "nbformat": 4,
 "nbformat_minor": 2
}
